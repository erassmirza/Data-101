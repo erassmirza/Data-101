{
 "cells": [
  {
   "cell_type": "markdown",
   "metadata": {},
   "source": [
    "1)\n",
    "dict = {&#39;a&#39;: 1, &#39;b&#39;: 2, &#39;c&#39;: 3, &#39;d&#39;: 4, &#39;e&#39;: 5}\n",
    "\n",
    "Count even and odd numbers present in a dictionary.\n",
    "\n",
    "Create two list which will contain even numbers in one list and odd numbers in the other"
   ]
  },
  {
   "cell_type": "code",
   "execution_count": 65,
   "metadata": {},
   "outputs": [
    {
     "name": "stdout",
     "output_type": "stream",
     "text": [
      "2 even numbers present in dict which are [2, 4]\n",
      "3 odd numbers present in dict which are [1, 3, 5]\n"
     ]
    }
   ],
   "source": [
    "dict = {'a':1, 'b':2, 'c':3, 'd':4, 'e':5}      # Given dictionary\n",
    "even_num = []                                   # Create an empty even no list\n",
    "odd_num = []                                    # Create an empty odd no list\n",
    "\n",
    "for value in dict.values():\n",
    "    if value%2==0:                              # Check value is even or not\n",
    "        even_num.append(value)                  # Add value in even list\n",
    "    else:\n",
    "        odd_num.append(value)                   # Add value in odd list\n",
    "        \n",
    "print(f'{len(even_num)} even numbers present in dict which are {even_num}')\n",
    "print(f'{len(odd_num)} odd numbers present in dict which are {odd_num}')"
   ]
  },
  {
   "cell_type": "markdown",
   "metadata": {},
   "source": [
    "2)\n",
    "Consider a variable\n",
    "\n",
    "text = '''\n",
    "The video by digital artist Beeple, whose real name is Mike Winkelmann, was authenticated by\n",
    "blockchain, which serves as a digital signature to certify who owns it and that it is the original work.\n",
    "It’s a new type of digital asset – known as a non-fungible token (NFT) – that has exploded in popularity\n",
    "during the pandemic as enthusiasts and investors scramble to spend enormous sums of money on items\n",
    "that only exist online.\n",
    "Blockchain technology allows the items to be publicly authenticated as one-of-a-kind, unlike traditional\n",
    "online objects which can be endlessly reproduced.\n",
    "'''\n",
    "\n",
    "Split the text into a list of words using the split() method.\n",
    "\n",
    "For each word on each line check to see if the word is alreadyin the list and if not append it to the list.\n",
    "\n",
    "When the program completes, sort and print the resulting words in alphabetical order.\n"
   ]
  },
  {
   "cell_type": "code",
   "execution_count": 66,
   "metadata": {},
   "outputs": [
    {
     "name": "stdout",
     "output_type": "stream",
     "text": [
      "['(NFT)', 'Beeple,', 'Blockchain', 'It’s', 'Mike', 'The', 'Winkelmann,', 'a', 'allows', 'and', 'artist', 'as', 'asset', 'authenticated', 'be', 'blockchain,', 'by', 'can', 'certify', 'digital', 'during', 'endlessly', 'enormous', 'enthusiasts', 'exist', 'exploded', 'has', 'in', 'investors', 'is', 'it', 'items', 'known', 'money', 'name', 'new', 'non-fungible', 'objects', 'of', 'on', 'one-of-a-kind,', 'online', 'online.', 'only', 'original', 'owns', 'pandemic', 'popularity', 'publicly', 'real', 'reproduced.', 'scramble', 'serves', 'signature', 'spend', 'sums', 'technology', 'that', 'the', 'to', 'token', 'traditional', 'type', 'unlike', 'video', 'was', 'which', 'who', 'whose', 'work.', '–']\n"
     ]
    }
   ],
   "source": [
    "text = '''\n",
    "The video by digital artist Beeple, whose real name is Mike Winkelmann, was authenticated by\n",
    "blockchain, which serves as a digital signature to certify who owns it and that it is the original work.\n",
    "It’s a new type of digital asset – known as a non-fungible token (NFT) – that has exploded in popularity\n",
    "during the pandemic as enthusiasts and investors scramble to spend enormous sums of money on items\n",
    "that only exist online.\n",
    "Blockchain technology allows the items to be publicly authenticated as one-of-a-kind, unlike traditional\n",
    "online objects which can be endlessly reproduced. '''\n",
    "\n",
    "words = set()                         # Create empty set\n",
    "\n",
    "for word in text.split():\n",
    "    words.add(word)                   # Add only unique values in set \n",
    "    \n",
    "sorted_words = list(words)            # Convert set into list\n",
    "print(sorted(sorted_words))           # Sorted words list"
   ]
  }
 ],
 "metadata": {
  "kernelspec": {
   "display_name": "Python 3",
   "language": "python",
   "name": "python3"
  },
  "language_info": {
   "codemirror_mode": {
    "name": "ipython",
    "version": 3
   },
   "file_extension": ".py",
   "mimetype": "text/x-python",
   "name": "python",
   "nbconvert_exporter": "python",
   "pygments_lexer": "ipython3",
   "version": "3.7.6"
  }
 },
 "nbformat": 4,
 "nbformat_minor": 4
}
