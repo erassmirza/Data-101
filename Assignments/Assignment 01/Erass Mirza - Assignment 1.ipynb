{
 "cells": [
  {
   "cell_type": "markdown",
   "metadata": {},
   "source": [
    "1) Take input from user\n",
    "Then make a logic which will identify whether the defined variable is ODD or EVEN. (Search for MOD\n",
    "operation on google)\n",
    "\n",
    "Example\n",
    "\n",
    "Input: 7\n",
    "\n",
    "Output: &quot;This number 7 is an odd number&quot;\n",
    "\n",
    "Input: 16\n",
    "\n",
    "Output: &quot;This number 16 is an even number&quot;"
   ]
  },
  {
   "cell_type": "code",
   "execution_count": 24,
   "metadata": {},
   "outputs": [
    {
     "name": "stdout",
     "output_type": "stream",
     "text": [
      "Enter the number: 146\n",
      "This number 146 is an even number\n"
     ]
    }
   ],
   "source": [
    "num = int(input('Enter the number: '))\n",
    "if (num%2==0):\n",
    "    print('This number '+str(num)+' is an even number')\n",
    "elif (num%2!=0):\n",
    "    print('This number '+str(num)+' is an odd number')\n",
    "else:\n",
    "    print('Kindly provide right input')"
   ]
  },
  {
   "cell_type": "markdown",
   "metadata": {},
   "source": [
    "2) Consider a string called\n",
    "\n",
    "data= &quot;Hi my name is Zain and I am currently doing my bachelor from IBA Karachi&quot;.\n",
    "\n",
    "Task: Print above mentioned string in UPPER, LOWER case"
   ]
  },
  {
   "cell_type": "code",
   "execution_count": 15,
   "metadata": {},
   "outputs": [
    {
     "name": "stdout",
     "output_type": "stream",
     "text": [
      "HI MY NAME IS ZAIN AND I AM CURRENTLY DOING MY BACHELOR FROM IBA KARACHI\n",
      "hi my name is zain and i am currently doing my bachelor from iba karachi\n"
     ]
    }
   ],
   "source": [
    "data = \"Hi my name is Zain and I am currently doing my bachelor from IBA Karachi\"\n",
    "print(data.upper())\n",
    "print(data.lower())"
   ]
  }
 ],
 "metadata": {
  "kernelspec": {
   "display_name": "Python 3",
   "language": "python",
   "name": "python3"
  },
  "language_info": {
   "codemirror_mode": {
    "name": "ipython",
    "version": 3
   },
   "file_extension": ".py",
   "mimetype": "text/x-python",
   "name": "python",
   "nbconvert_exporter": "python",
   "pygments_lexer": "ipython3",
   "version": "3.7.6"
  }
 },
 "nbformat": 4,
 "nbformat_minor": 4
}
